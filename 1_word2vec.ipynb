{
 "cells": [
  {
   "cell_type": "markdown",
   "id": "7c014f09",
   "metadata": {},
   "source": [
    "## Load libraries"
   ]
  },
  {
   "cell_type": "code",
   "execution_count": 3,
   "id": "b1440ccb",
   "metadata": {},
   "outputs": [],
   "source": [
    "from gensim.models import Word2Vec\n",
    "from gensim.models import KeyedVectors\n",
    "from gensim.utils import simple_preprocess\n",
    "\n",
    "import numpy as np\n",
    "np.random.seed(0)\n",
    "import pandas as pd\n",
    "\n",
    "from sklearn.metrics import f1_score"
   ]
  },
  {
   "cell_type": "code",
   "execution_count": 26,
   "id": "59023394",
   "metadata": {},
   "outputs": [
    {
     "name": "stdout",
     "output_type": "stream",
     "text": [
      " Volume in drive C is OSDisk\n",
      " Volume Serial Number is DE9E-6BDB\n",
      "\n",
      " Directory of C:\\Users\\mw79fw\\OneDrive - ING\\Documents\\Python_projects\\NLP_projects\\InputData\n",
      "\n",
      "03.12.2021  18:13    <DIR>          .\n",
      "03.12.2021  18:13    <DIR>          ..\n",
      "02.11.2021  16:19         4ÿ486ÿ080 tweets_airline.h5\n",
      "               1 File(s)      4ÿ486ÿ080 bytes\n",
      "               2 Dir(s)  216ÿ850ÿ579ÿ456 bytes free\n"
     ]
    }
   ],
   "source": [
    "ls InputData"
   ]
  },
  {
   "cell_type": "code",
   "execution_count": 8,
   "id": "d75d3365",
   "metadata": {},
   "outputs": [],
   "source": [
    "# load data\n",
    "df = pd.read_hdf('InputData/tweets_airline.h5')"
   ]
  },
  {
   "cell_type": "code",
   "execution_count": 10,
   "id": "45bfa061",
   "metadata": {},
   "outputs": [
    {
     "data": {
      "text/html": [
       "<div>\n",
       "<style scoped>\n",
       "    .dataframe tbody tr th:only-of-type {\n",
       "        vertical-align: middle;\n",
       "    }\n",
       "\n",
       "    .dataframe tbody tr th {\n",
       "        vertical-align: top;\n",
       "    }\n",
       "\n",
       "    .dataframe thead th {\n",
       "        text-align: right;\n",
       "    }\n",
       "</style>\n",
       "<table border=\"1\" class=\"dataframe\">\n",
       "  <thead>\n",
       "    <tr style=\"text-align: right;\">\n",
       "      <th></th>\n",
       "      <th>tweet_id</th>\n",
       "      <th>airline_sentiment</th>\n",
       "      <th>airline_sentiment_confidence</th>\n",
       "      <th>negativereason</th>\n",
       "      <th>negativereason_confidence</th>\n",
       "      <th>airline</th>\n",
       "      <th>airline_sentiment_gold</th>\n",
       "      <th>name</th>\n",
       "      <th>negativereason_gold</th>\n",
       "      <th>retweet_count</th>\n",
       "      <th>text</th>\n",
       "      <th>tweet_coord</th>\n",
       "      <th>tweet_created</th>\n",
       "      <th>tweet_location</th>\n",
       "      <th>user_timezone</th>\n",
       "    </tr>\n",
       "  </thead>\n",
       "  <tbody>\n",
       "    <tr>\n",
       "      <th>13983</th>\n",
       "      <td>569682010270101504</td>\n",
       "      <td>negative</td>\n",
       "      <td>0.6163</td>\n",
       "      <td>Late Flight</td>\n",
       "      <td>0.6163</td>\n",
       "      <td>American</td>\n",
       "      <td>NaN</td>\n",
       "      <td>zsalim03</td>\n",
       "      <td>NaN</td>\n",
       "      <td>0</td>\n",
       "      <td>@AmericanAir In car gng to DFW. Pulled over 1h...</td>\n",
       "      <td>NaN</td>\n",
       "      <td>2015-02-22 18:15:50 -0800</td>\n",
       "      <td>Texas</td>\n",
       "      <td>Central Time (US &amp; Canada)</td>\n",
       "    </tr>\n",
       "  </tbody>\n",
       "</table>\n",
       "</div>"
      ],
      "text/plain": [
       "                 tweet_id airline_sentiment  airline_sentiment_confidence  \\\n",
       "13983  569682010270101504          negative                        0.6163   \n",
       "\n",
       "      negativereason  negativereason_confidence   airline  \\\n",
       "13983    Late Flight                     0.6163  American   \n",
       "\n",
       "      airline_sentiment_gold      name negativereason_gold  retweet_count  \\\n",
       "13983                    NaN  zsalim03                 NaN              0   \n",
       "\n",
       "                                                    text tweet_coord  \\\n",
       "13983  @AmericanAir In car gng to DFW. Pulled over 1h...         NaN   \n",
       "\n",
       "                   tweet_created tweet_location               user_timezone  \n",
       "13983  2015-02-22 18:15:50 -0800          Texas  Central Time (US & Canada)  "
      ]
     },
     "execution_count": 10,
     "metadata": {},
     "output_type": "execute_result"
    }
   ],
   "source": [
    "df.sample(1)"
   ]
  },
  {
   "cell_type": "code",
   "execution_count": 36,
   "id": "c9770550",
   "metadata": {},
   "outputs": [],
   "source": [
    "# create folder dedicated to tweets_airline\n",
    "mkdir Models\\tweets_airline"
   ]
  },
  {
   "cell_type": "markdown",
   "id": "b0522919",
   "metadata": {},
   "source": [
    "we will be tokenize `text` variable"
   ]
  },
  {
   "cell_type": "code",
   "execution_count": null,
   "id": "7e37e590",
   "metadata": {},
   "outputs": [],
   "source": []
  }
 ],
 "metadata": {
  "kernelspec": {
   "display_name": "Python 3",
   "language": "python",
   "name": "python3"
  },
  "language_info": {
   "codemirror_mode": {
    "name": "ipython",
    "version": 3
   },
   "file_extension": ".py",
   "mimetype": "text/x-python",
   "name": "python",
   "nbconvert_exporter": "python",
   "pygments_lexer": "ipython3",
   "version": "3.8.8"
  }
 },
 "nbformat": 4,
 "nbformat_minor": 5
}
